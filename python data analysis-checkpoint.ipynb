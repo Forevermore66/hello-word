{
 "cells": [
  {
   "cell_type": "markdown",
   "metadata": {},
   "source": [
    "print(变量名，mystring字符串)\n",
    "作为变量名必须注意首写字母为下划线或者字母，并且大小写敏感\n",
    "关键字在IDE中以不同颜色出现，固定形式\n",
    "链式赋值相当于数学中连等号，也可以多重赋值，等号两边以元祖的方式出现\n",
    "语句：完整执行一个任务的执行代码\n",
    "常用数据类型有\n",
    "1整形L\n",
    "2布尔型true/false\n",
    "3浮点型float相当于实数\n",
    "4复数就是实数加虚数，虚数部分用j来标志 -复数.real -复数.image\n",
    "5字符串 可以用单引号，双引号或者三引号\n",
    "6字典 唯一的映射类型 用大括号进行鉴别 类似于哈希值的键值对\n",
    "\n",
    "算术运算容易遗忘部分：%取余，整除//,!=这是逻辑等于\n",
    "abs(x),tpye(x)round(x)\n",
    "包 包含了模块和库\n",
    "\n",
    "if语句\n",
    "if expression:\n",
    "   expr_true_suite\n",
    "else:\n",
    "   expr_false_suite\n",
    "elif语句"
   ]
  },
  {
   "cell_type": "markdown",
   "metadata": {},
   "source": [
    "import matplotlib.pyplot as plt\n",
    "x=np.linspace(0,10,60)\n",
    "y=np.sin(x)\n",
    "plt.plot(x,y,\"rs\")\n",
    "plt.xlabel(\"x\")\n",
    "plt.ylabel(\"y\")"
   ]
  },
  {
   "cell_type": "markdown",
   "metadata": {},
   "source": [
    "a=0\n",
    "b=1\n",
    "while b<1000:\n",
    "    interim=a+b\n",
    "    a=b\n",
    "    b=interim\n",
    "    print(b)"
   ]
  },
  {
   "cell_type": "markdown",
   "metadata": {},
   "source": [
    "def fib(bound):\n",
    "    a=0\n",
    "    b=1\n",
    "    fib=[]\n",
    "    \n",
    "   while b<bound:\n",
    "    interim=a+b\n",
    "    a=b\n",
    "    b=interim\n",
    "    fib.append(b)\n",
    "  return fib"
   ]
  },
  {
   "cell_type": "markdown",
   "metadata": {},
   "source": [
    "a=np.random.binomial(1,0.49,200)\n",
    "a1=np.where(a>0,100,-100)\n",
    "res=a1.cumsum()\n",
    "res=pd.Series(res)\n",
    "res.plot()\n"
   ]
  },
  {
   "cell_type": "markdown",
   "metadata": {},
   "source": [
    "a=np.random.randint(0,2,20)\n",
    "\n",
    "b=np.random.randn(66)\n",
    "import pandas as pd\n",
    "s1= pd.Series(b)\n",
    "s1.describe()\n",
    "s1.hist()\n"
   ]
  },
  {
   "cell_type": "code",
   "execution_count": null,
   "metadata": {},
   "outputs": [],
   "source": []
  },
  {
   "cell_type": "code",
   "execution_count": null,
   "metadata": {},
   "outputs": [],
   "source": []
  },
  {
   "cell_type": "code",
   "execution_count": null,
   "metadata": {},
   "outputs": [],
   "source": []
  },
  {
   "cell_type": "markdown",
   "metadata": {},
   "source": []
  }
 ],
 "metadata": {
  "kernelspec": {
   "display_name": "Python 3",
   "language": "python",
   "name": "python3"
  },
  "language_info": {
   "codemirror_mode": {
    "name": "ipython",
    "version": 3
   },
   "file_extension": ".py",
   "mimetype": "text/x-python",
   "name": "python",
   "nbconvert_exporter": "python",
   "pygments_lexer": "ipython3",
   "version": "3.6.5"
  }
 },
 "nbformat": 4,
 "nbformat_minor": 2
}
